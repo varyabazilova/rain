{
 "cells": [
  {
   "cell_type": "code",
   "execution_count": 1,
   "metadata": {},
   "outputs": [],
   "source": [
    "import xarray as xr\n",
    "import pandas as pd\n",
    "from datetime import datetime\n",
    "import numpy as np\n",
    "import matplotlib.pyplot as plt"
   ]
  },
  {
   "cell_type": "code",
   "execution_count": 2,
   "metadata": {},
   "outputs": [],
   "source": [
    "# open dataset\n",
    "f = xr.open_dataset('seNorge2018_RR_1957_2017.nc')"
   ]
  },
  {
   "cell_type": "code",
   "execution_count": 55,
   "metadata": {},
   "outputs": [
    {
     "data": {
      "text/plain": [
       "<xarray.DataArray 'rr' (time: 22280, Y: 1550, X: 1195)>\n",
       "[41268130000 values with dtype=float32]\n",
       "Coordinates:\n",
       "  * X        (X) float64 -7.45e+04 -7.35e+04 -7.25e+04 ... 1.118e+06 1.12e+06\n",
       "  * Y        (Y) float64 8e+06 7.998e+06 7.998e+06 ... 6.452e+06 6.450e+06\n",
       "  * time     (time) datetime64[ns] 1957-01-01T06:00:00 ... 2017-12-31T06:00:00\n",
       "    lon      (Y, X) float32 ...\n",
       "    lat      (Y, X) float32 ...\n",
       "Attributes:\n",
       "    units:          kg/m^2\n",
       "    grid_mapping:   UTM_Zone_33\n",
       "    long_name:      daily total precipitation (06-06)\n",
       "    standard_name:  precipitation_amount\n",
       "    cell_methods:   time: sum\n",
       "    version:        1.0\n",
       "    prod_date:      2018-12-07"
      ]
     },
     "execution_count": 55,
     "metadata": {},
     "output_type": "execute_result"
    }
   ],
   "source": [
    "# f['time'][:]\n",
    "# f.summary\n",
    "f['rr'] # - units: kg/m2 -> precipitation data "
   ]
  },
  {
   "cell_type": "code",
   "execution_count": 57,
   "metadata": {},
   "outputs": [],
   "source": [
    "# round dates to 'day'\n",
    "f_days = f.assign(date = lambda f: f.time.dt.round('D')) \n",
    "# add weekday\n",
    "f_days_of_week = f_days.assign(day_of_week = lambda f: f_days.date.dt.weekday) "
   ]
  },
  {
   "cell_type": "code",
   "execution_count": 56,
   "metadata": {},
   "outputs": [
    {
     "data": {
      "text/plain": [
       "<xarray.DataArray 'day_of_week' (time: 22280)>\n",
       "array([1, 2, 3, ..., 4, 5, 6])\n",
       "Coordinates:\n",
       "  * time     (time) datetime64[ns] 1957-01-01T06:00:00 ... 2017-12-31T06:00:00"
      ]
     },
     "execution_count": 56,
     "metadata": {},
     "output_type": "execute_result"
    }
   ],
   "source": [
    "# whats it look like: \n",
    "f_days_of_week['day_of_week']"
   ]
  },
  {
   "cell_type": "code",
   "execution_count": null,
   "metadata": {},
   "outputs": [],
   "source": [
    "# the entire dataset\n",
    "# groups:\n",
    "# a = f_days_of_week.groupby(\"day_of_week\").groups\n",
    "\n",
    "# group by day of week\n",
    "# xmean = f_days_of_week.groupby('day_of_week').mean()"
   ]
  },
  {
   "cell_type": "code",
   "execution_count": null,
   "metadata": {},
   "outputs": [],
   "source": [
    "# what xmean looks like\n",
    "# xmean"
   ]
  },
  {
   "cell_type": "code",
   "execution_count": 58,
   "metadata": {},
   "outputs": [],
   "source": [
    "## ----- take subset:\n",
    "\n",
    "# take only 1 year:\n",
    "rain2016 = f_days_of_week.sel(time=slice(\"2016-01-01\", \"2016-12-31\"))\n",
    "# group by day of week\n",
    "mean2016 = rain2016.groupby('day_of_week').mean()"
   ]
  },
  {
   "cell_type": "code",
   "execution_count": 114,
   "metadata": {},
   "outputs": [
    {
     "data": {
      "image/png": "[encoded data removed]",
      "text/plain": [
       "<Figure size 432x288 with 1 Axes>"
      ]
     },
     "metadata": {
      "needs_background": "light"
     },
     "output_type": "display_data"
    }
   ],
   "source": [
    "mean2016_rain = mean2016['rr'].plot()\n",
    "# mean2016_rain.plot()"
   ]
  },
  {
   "cell_type": "code",
   "execution_count": 90,
   "metadata": {},
   "outputs": [],
   "source": [
    "# separate days:\n",
    "day0 = mean2016_rain.isel(day_of_week=0)\n",
    "day1 = mean2016_rain.isel(day_of_week=1)\n",
    "day2 = mean2016_rain.isel(day_of_week=2)\n",
    "day3 = mean2016_rain.isel(day_of_week=3)\n",
    "day4 = mean2016_rain.isel(day_of_week=4)\n",
    "day5 = mean2016_rain.isel(day_of_week=5)\n",
    "day6 = mean2016_rain.isel(day_of_week=6)"
   ]
  },
  {
   "cell_type": "code",
   "execution_count": 131,
   "metadata": {},
   "outputs": [],
   "source": [
    "# day0.plot(vmin=0, vmax=20)\n",
    "# day1.plot(vmin=0, vmax=20)\n",
    "# day2.plot(vmin=0, vmax=20)\n",
    "# day3.plot(vmin=0, vmax=20)\n",
    "# day4.plot(vmin=0, vmax=20)\n",
    "# day5.plot(vmin=0, vmax=20)\n",
    "# day6.plot(vmin=0, vmax=20)\n",
    "\n"
   ]
  },
  {
   "cell_type": "code",
   "execution_count": null,
   "metadata": {},
   "outputs": [],
   "source": []
  },
  {
   "cell_type": "code",
   "execution_count": null,
   "metadata": {},
   "outputs": [],
   "source": []
  },
  {
   "cell_type": "code",
   "execution_count": null,
   "metadata": {},
   "outputs": [],
   "source": []
  }
 ],
 "metadata": {
  "kernelspec": {
   "display_name": "Python [conda env:rain]",
   "language": "python",
   "name": "conda-env-rain-py"
  },
  "language_info": {
   "codemirror_mode": {
    "name": "ipython",
    "version": 3
   },
   "file_extension": ".py",
   "mimetype": "text/x-python",
   "name": "python",
   "nbconvert_exporter": "python",
   "pygments_lexer": "ipython3",
   "version": "3.7.0"
  }
 },
 "nbformat": 4,
 "nbformat_minor": 5
}
