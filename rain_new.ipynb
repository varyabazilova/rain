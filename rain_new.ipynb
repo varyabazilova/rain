{
 "cells": [
  {
   "cell_type": "code",
   "execution_count": 1,
   "metadata": {},
   "outputs": [],
   "source": [
    "import xarray as xr\n",
    "import pandas as pd\n",
    "from datetime import datetime\n",
    "import numpy as np"
   ]
  },
  {
   "cell_type": "code",
   "execution_count": 2,
   "metadata": {},
   "outputs": [],
   "source": [
    "f = xr.open_dataset('seNorge2018_RR_1957_2017.nc')"
   ]
  },
  {
   "cell_type": "code",
   "execution_count": 15,
   "metadata": {},
   "outputs": [
    {
     "data": {
      "text/plain": [
       "<xarray.Dataset>\n",
       "Dimensions:      (X: 1195, Y: 1550, nv: 2, time: 22280)\n",
       "Coordinates:\n",
       "  * X            (X) float64 -7.45e+04 -7.35e+04 ... 1.118e+06 1.12e+06\n",
       "  * Y            (Y) float64 8e+06 7.998e+06 7.998e+06 ... 6.452e+06 6.450e+06\n",
       "  * time         (time) datetime64[ns] 1957-01-01T06:00:00 ... 2017-12-31T06:00:00\n",
       "    lon          (Y, X) float32 ...\n",
       "    lat          (Y, X) float32 ...\n",
       "  * nv           (nv) float64 0.0 1.0\n",
       "Data variables:\n",
       "    rr           (time, Y, X) float32 ...\n",
       "    UTM_Zone_33  float64 ...\n",
       "    time_bnds    (time, nv) datetime64[ns] ...\n",
       "Attributes:\n",
       "    institution:  Norwegian Meteorological Institute, MET Norway\n",
       "    creator_url:  met.no\n",
       "    license:      https://www.met.no/en/free-meteorological-data/Licensing-an...\n",
       "    source:       MET Norway\n",
       "    comment:      Our open data are licensed under Norwegian Licence for Open...\n",
       "    Conventions:  CF-1.7\n",
       "    title:        seNorge_2018 RR\n",
       "    DOI:          10.5281/zenodo.2082320\n",
       "    version:      18.12\n",
       "    summary:      seNorge_2018 is an observational gridded dataset. The data ...\n",
       "    References:    Lussana, C., Saloranta, T., Skaugen, T., Magnusson, J., Tv..."
      ]
     },
     "execution_count": 15,
     "metadata": {},
     "output_type": "execute_result"
    }
   ],
   "source": [
    "# f['time'][:]\n",
    "f"
   ]
  },
  {
   "cell_type": "code",
   "execution_count": 4,
   "metadata": {},
   "outputs": [],
   "source": [
    "# round dates to 'day'\n",
    "f_days = f.assign(date = lambda f: f.time.dt.round('D')) \n",
    "# add weekday\n",
    "f_days_of_week = f_days.assign(day_of_week = lambda f: f_days.date.dt.weekday) "
   ]
  },
  {
   "cell_type": "code",
   "execution_count": 9,
   "metadata": {},
   "outputs": [
    {
     "data": {
      "text/plain": [
       "<xarray.DataArray 'day_of_week' (time: 22280)>\n",
       "array([1, 2, 3, ..., 4, 5, 6])\n",
       "Coordinates:\n",
       "  * time     (time) datetime64[ns] 1957-01-01T06:00:00 ... 2017-12-31T06:00:00"
      ]
     },
     "execution_count": 9,
     "metadata": {},
     "output_type": "execute_result"
    }
   ],
   "source": [
    "f_days_of_week['day_of_week']"
   ]
  },
  {
   "cell_type": "code",
   "execution_count": 22,
   "metadata": {},
   "outputs": [
    {
     "name": "stderr",
     "output_type": "stream",
     "text": [
      "/opt/anaconda3/envs/rain/lib/python3.7/site-packages/xarray/core/nanops.py:140: RuntimeWarning: Mean of empty slice\n",
      "  return np.nanmean(a, axis=axis, dtype=dtype)\n"
     ]
    }
   ],
   "source": [
    "# groups:\n",
    "a = f_days_of_week.groupby(\"day_of_week\").groups\n",
    "\n",
    "# group by day of week\n",
    "xmean = f_days_of_week.groupby('day_of_week').mean()"
   ]
  },
  {
   "cell_type": "code",
   "execution_count": 23,
   "metadata": {},
   "outputs": [
    {
     "data": {
      "text/plain": [
       "<xarray.Dataset>\n",
       "Dimensions:      (X: 1195, Y: 1550, day_of_week: 7, nv: 2)\n",
       "Coordinates:\n",
       "    lat          (Y, X) float32 71.394295 71.396675 ... 57.766502 57.765125\n",
       "    lon          (Y, X) float32 -1.309146 -1.282192 ... 25.421093 25.437622\n",
       "  * Y            (Y) float64 8e+06 7.998e+06 7.998e+06 ... 6.452e+06 6.450e+06\n",
       "  * nv           (nv) float64 0.0 1.0\n",
       "  * X            (X) float64 -7.45e+04 -7.35e+04 ... 1.118e+06 1.12e+06\n",
       "  * day_of_week  (day_of_week) int64 0 1 2 3 4 5 6\n",
       "Data variables:\n",
       "    rr           (day_of_week, Y, X) float32 nan nan nan nan ... nan nan nan nan\n",
       "    UTM_Zone_33  (day_of_week) float64 1.0 1.0 1.0 1.0 1.0 1.0 1.0"
      ]
     },
     "execution_count": 23,
     "metadata": {},
     "output_type": "execute_result"
    }
   ],
   "source": [
    "# what xmean looks like\n",
    "xmean"
   ]
  },
  {
   "cell_type": "code",
   "execution_count": 20,
   "metadata": {},
   "outputs": [],
   "source": [
    "# define function to compute mean per group\n",
    "def mean_rain(rr):\n",
    "    return rr.mean()"
   ]
  },
  {
   "cell_type": "code",
   "execution_count": 21,
   "metadata": {},
   "outputs": [
    {
     "ename": "AttributeError",
     "evalue": "'DatasetGroupBy' object has no attribute 'map'",
     "output_type": "error",
     "traceback": [
      "\u001b[0;31m---------------------------------------------------------------------------\u001b[0m",
      "\u001b[0;31mAttributeError\u001b[0m                            Traceback (most recent call last)",
      "\u001b[0;32m/var/folders/y_/6rtfpwcs1x1dpd_wb9wwbj7c0000gn/T/ipykernel_4529/1700624754.py\u001b[0m in \u001b[0;36m<module>\u001b[0;34m\u001b[0m\n\u001b[1;32m      2\u001b[0m \u001b[0mday_of_week_group\u001b[0m \u001b[0;34m=\u001b[0m \u001b[0mf_days_of_week\u001b[0m\u001b[0;34m.\u001b[0m\u001b[0mgroupby\u001b[0m\u001b[0;34m(\u001b[0m\u001b[0;34m\"day_of_week\"\u001b[0m\u001b[0;34m)\u001b[0m\u001b[0;34m\u001b[0m\u001b[0m\n\u001b[1;32m      3\u001b[0m \u001b[0;34m\u001b[0m\u001b[0m\n\u001b[0;32m----> 4\u001b[0;31m \u001b[0mday_of_week_group_mean\u001b[0m \u001b[0;34m=\u001b[0m \u001b[0mday_of_week_group\u001b[0m\u001b[0;34m.\u001b[0m\u001b[0mmap\u001b[0m\u001b[0;34m(\u001b[0m\u001b[0mmean_rain\u001b[0m\u001b[0;34m)\u001b[0m\u001b[0;34m\u001b[0m\u001b[0m\n\u001b[0m",
      "\u001b[0;31mAttributeError\u001b[0m: 'DatasetGroupBy' object has no attribute 'map'"
     ]
    }
   ],
   "source": [
    "# map() - apply function to groups: \n",
    "day_of_week_group = f_days_of_week.groupby(\"day_of_week\")\n",
    "\n",
    "day_of_week_group_mean = day_of_week_group.map(mean_rain)"
   ]
  },
  {
   "cell_type": "code",
   "execution_count": 8,
   "metadata": {},
   "outputs": [],
   "source": [
    "# f_days_of_week.day_of_week\n"
   ]
  },
  {
   "cell_type": "code",
   "execution_count": null,
   "metadata": {},
   "outputs": [],
   "source": []
  },
  {
   "cell_type": "code",
   "execution_count": null,
   "metadata": {
    "scrolled": true
   },
   "outputs": [],
   "source": []
  },
  {
   "cell_type": "code",
   "execution_count": null,
   "metadata": {},
   "outputs": [],
   "source": []
  }
 ],
 "metadata": {
  "kernelspec": {
   "display_name": "Python [conda env:rain]",
   "language": "python",
   "name": "conda-env-rain-py"
  },
  "language_info": {
   "codemirror_mode": {
    "name": "ipython",
    "version": 3
   },
   "file_extension": ".py",
   "mimetype": "text/x-python",
   "name": "python",
   "nbconvert_exporter": "python",
   "pygments_lexer": "ipython3",
   "version": "3.7.0"
  }
 },
 "nbformat": 4,
 "nbformat_minor": 5
}
