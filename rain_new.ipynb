{
 "cells": [
  {
   "cell_type": "code",
   "execution_count": 1,
   "id": "d1a9be9e",
   "metadata": {},
   "outputs": [],
   "source": [
    "import xarray as xr\n",
    "import pandas as pd\n",
    "from datetime import datetime\n",
    "import numpy as np"
   ]
  },
  {
   "cell_type": "code",
   "execution_count": 2,
   "id": "208bdf0c",
   "metadata": {},
   "outputs": [],
   "source": [
    "f = xr.open_dataset('seNorge2018_RR_1957_2017.nc')"
   ]
  },
  {
   "cell_type": "code",
   "execution_count": 3,
   "id": "0b9869e8",
   "metadata": {},
   "outputs": [
    {
     "data": {
      "text/plain": [
       "<xarray.DataArray 'time' (time: 22280)>\n",
       "array(['1957-01-01T06:00:00.000000000', '1957-01-02T06:00:00.000000000',\n",
       "       '1957-01-03T06:00:00.000000000', ..., '2017-12-29T06:00:00.000000000',\n",
       "       '2017-12-30T06:00:00.000000000', '2017-12-31T06:00:00.000000000'],\n",
       "      dtype='datetime64[ns]')\n",
       "Coordinates:\n",
       "  * time     (time) datetime64[ns] 1957-01-01T06:00:00 ... 2017-12-31T06:00:00\n",
       "Attributes:\n",
       "    axis:           T\n",
       "    long_name:      time\n",
       "    standard_name:  time\n",
       "    cell_methods:   time: sum\n",
       "    bounds:         time_bnds"
      ]
     },
     "execution_count": 3,
     "metadata": {},
     "output_type": "execute_result"
    }
   ],
   "source": [
    "f['time'][:]\n"
   ]
  },
  {
   "cell_type": "code",
   "execution_count": 4,
   "id": "6bcc942f",
   "metadata": {},
   "outputs": [
    {
     "data": {
      "text/plain": [
       "xarray.core.dataset.Dataset"
      ]
     },
     "execution_count": 4,
     "metadata": {},
     "output_type": "execute_result"
    }
   ],
   "source": [
    "type(f)"
   ]
  },
  {
   "cell_type": "code",
   "execution_count": 5,
   "id": "7e4f355d",
   "metadata": {},
   "outputs": [],
   "source": [
    "f_days = f.assign(date = lambda f: f.time.dt.round('D')) \n",
    "f_days_of_week = f_days.assign(day_of_week = lambda f: f_days.date.dt.weekday) "
   ]
  },
  {
   "cell_type": "code",
   "execution_count": 6,
   "id": "36c04105",
   "metadata": {},
   "outputs": [],
   "source": [
    "# f_days_of_week"
   ]
  },
  {
   "cell_type": "code",
   "execution_count": 7,
   "id": "c31ead6e",
   "metadata": {},
   "outputs": [
    {
     "data": {
      "text/plain": [
       "xarray.core.dataset.Dataset"
      ]
     },
     "execution_count": 7,
     "metadata": {},
     "output_type": "execute_result"
    }
   ],
   "source": [
    "type(f_days)"
   ]
  },
  {
   "cell_type": "code",
   "execution_count": 8,
   "id": "705f975d",
   "metadata": {},
   "outputs": [
    {
     "ename": "AttributeError",
     "evalue": "'Dataset' object has no attribute 'DataArray'",
     "output_type": "error",
     "traceback": [
      "\u001b[0;31m---------------------------------------------------------------------------\u001b[0m",
      "\u001b[0;31mAttributeError\u001b[0m                            Traceback (most recent call last)",
      "\u001b[0;32m/var/folders/y_/6rtfpwcs1x1dpd_wb9wwbj7c0000gn/T/ipykernel_94140/3804369102.py\u001b[0m in \u001b[0;36m<module>\u001b[0;34m\u001b[0m\n\u001b[0;32m----> 1\u001b[0;31m \u001b[0mf\u001b[0m\u001b[0;34m.\u001b[0m\u001b[0mDataArray\u001b[0m\u001b[0;34m.\u001b[0m\u001b[0mdt\u001b[0m\u001b[0;34m.\u001b[0m\u001b[0mweekday\u001b[0m\u001b[0;34m\u001b[0m\u001b[0m\n\u001b[0m",
      "\u001b[0;32m/opt/anaconda3/envs/rain/lib/python3.7/site-packages/xarray/core/common.py\u001b[0m in \u001b[0;36m__getattr__\u001b[0;34m(self, name)\u001b[0m\n\u001b[1;32m    228\u001b[0m                     \u001b[0;32mreturn\u001b[0m \u001b[0msource\u001b[0m\u001b[0;34m[\u001b[0m\u001b[0mname\u001b[0m\u001b[0;34m]\u001b[0m\u001b[0;34m\u001b[0m\u001b[0m\n\u001b[1;32m    229\u001b[0m         raise AttributeError(\n\u001b[0;32m--> 230\u001b[0;31m             \u001b[0;34m\"%r object has no attribute %r\"\u001b[0m \u001b[0;34m%\u001b[0m \u001b[0;34m(\u001b[0m\u001b[0mtype\u001b[0m\u001b[0;34m(\u001b[0m\u001b[0mself\u001b[0m\u001b[0;34m)\u001b[0m\u001b[0;34m.\u001b[0m\u001b[0m__name__\u001b[0m\u001b[0;34m,\u001b[0m \u001b[0mname\u001b[0m\u001b[0;34m)\u001b[0m\u001b[0;34m\u001b[0m\u001b[0m\n\u001b[0m\u001b[1;32m    231\u001b[0m         )\n\u001b[1;32m    232\u001b[0m \u001b[0;34m\u001b[0m\u001b[0m\n",
      "\u001b[0;31mAttributeError\u001b[0m: 'Dataset' object has no attribute 'DataArray'"
     ]
    }
   ],
   "source": [
    "f.DataArray.dt.weekday"
   ]
  },
  {
   "cell_type": "code",
   "execution_count": null,
   "id": "ac91cbcc",
   "metadata": {},
   "outputs": [],
   "source": [
    "df = f.to_dataframe()"
   ]
  },
  {
   "cell_type": "code",
   "execution_count": null,
   "id": "03a756ab",
   "metadata": {},
   "outputs": [],
   "source": [
    "df.head()"
   ]
  },
  {
   "cell_type": "code",
   "execution_count": 10,
   "id": "cbb52cd4",
   "metadata": {},
   "outputs": [
    {
     "data": {
      "text/plain": [
       "41268130000"
      ]
     },
     "execution_count": 10,
     "metadata": {},
     "output_type": "execute_result"
    }
   ],
   "source": [
    "1195*1550*22280\n",
    "\\"
   ]
  },
  {
   "cell_type": "code",
   "execution_count": 18,
   "id": "7f1be691",
   "metadata": {},
   "outputs": [
    {
     "data": {
      "text/plain": [
       "(22280,)"
      ]
     },
     "execution_count": 18,
     "metadata": {},
     "output_type": "execute_result"
    }
   ],
   "source": [
    "f_days_of_week.day_of_week"
   ]
  },
  {
   "cell_type": "code",
   "execution_count": 24,
   "id": "8d8c30fd",
   "metadata": {},
   "outputs": [
    {
     "data": {
      "text/plain": [
       "<xarray.DataArray 'day_of_week' (time: 22280)>\n",
       "array([1, 2, 3, ..., 4, 5, 6])\n",
       "Coordinates:\n",
       "  * time     (time) datetime64[ns] 1957-01-01T06:00:00 ... 2017-12-31T06:00:00"
      ]
     },
     "execution_count": 24,
     "metadata": {},
     "output_type": "execute_result"
    }
   ],
   "source": [
    "f_days_of_week['day_of_week']"
   ]
  },
  {
   "cell_type": "code",
   "execution_count": null,
   "id": "65edb221",
   "metadata": {
    "scrolled": true
   },
   "outputs": [],
   "source": [
    "xmean = f_days_of_week.groupby('day_of_week').mean()"
   ]
  },
  {
   "cell_type": "code",
   "execution_count": null,
   "id": "6a3b4a03",
   "metadata": {},
   "outputs": [],
   "source": []
  }
 ],
 "metadata": {
  "kernelspec": {
   "display_name": "Python [conda env:rain] *",
   "language": "python",
   "name": "conda-env-rain-py"
  },
  "language_info": {
   "codemirror_mode": {
    "name": "ipython",
    "version": 3
   },
   "file_extension": ".py",
   "mimetype": "text/x-python",
   "name": "python",
   "nbconvert_exporter": "python",
   "pygments_lexer": "ipython3",
   "version": "3.7.0"
  }
 },
 "nbformat": 4,
 "nbformat_minor": 5
}
